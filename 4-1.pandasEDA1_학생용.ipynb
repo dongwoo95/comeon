{
 "cells": [
  {
   "cell_type": "markdown",
   "metadata": {},
   "source": [
    "## pandas와 EDA"
   ]
  },
  {
   "cell_type": "markdown",
   "metadata": {},
   "source": [
    "### 탐색적 데이터 분석 과정이란?  \n",
    "- EDA (Exploratory Data Analysis) 라고 함\n",
    "- 데이터 분석을 위해 **raw data를 다양한 각도에서 관찰**하여, 데이터를 이해하는 과정\n",
    "- 주제마다 EDA를 통해 진행하는 과정은 다양한 방법이 동원된다.\n",
    "- 분석 프로세스가 정형화된 패턴이 없다.\n",
    "<br>\n",
    "       \n",
    "> 존 튜키라는 미국 통계학자가 제안한 분석 방법론 <br>\n",
    "> 기존 통계학이 가설을 세우고, 가설을 검정하는 방법론 <br>\n",
    "> 본연의 데이터 탐색에 집중하자는 방법론"
   ]
  },
  {
   "cell_type": "markdown",
   "metadata": {},
   "source": [
    "**3단계 과정을 통해서 익혀본다.**\n",
    "\n",
    "1. 데이터의 출처와 주제에 대해 이해\n",
    "2. 데이터의 크기 확인\n",
    "3. 데이터 구성 요소(feature)의 속성(특징) 확인\n",
    "   - feature: 데이터 구성 요소를 위미함\n",
    "   - 판다스의 column 이라고 봐도 무방함\n",
    "       \n"
   ]
  },
  {
   "cell_type": "markdown",
   "metadata": {},
   "source": [
    "### 실제 코로나 데이터로 pandas 라이브러리와 탐색적 분석 과정 익히기\n",
    "- COVID-19-master 폴더 확인\n",
    "  - 데이터 다운로드: https://github.com/CSSEGISandData/COVID-19\n",
    "  - 데이터 압축 풀고 COVID-19-master 폴더를 통째로 pandas_eda 주피터 노트북이 있는 폴더 안에 하위폴더로 이동\n",
    "  \n",
    "- 한국통계청\n",
    "    -https://kosis.kr/covid/covid_index.do"
   ]
  },
  {
   "cell_type": "markdown",
   "metadata": {},
   "source": [
    "## 탐색적 데이터 분석1: 데이터의 출처와 주제에 대해 이해"
   ]
  },
  {
   "cell_type": "markdown",
   "metadata": {},
   "source": [
    "<div class=\"alert alert-block\" style=\"border: 1px solid #566573;background-color:#EAF2F8;\">\n",
    "<font size=\"3em\" style=\"font-weight:bold;color:#3f8dbf;\">탐색적 데이터 분석: 1. 데이터의 출처와 주제에 대해 이해</font><br>\n",
    "\n",
    "- 국가별 코로나 바이러스 daily 현황 자료\n",
    "- 데이터 소스는 https://github.com/CSSEGISandData/COVID-19/tree/master/who_covid_19_situation_reports\n",
    "  - 실제 데이터 분석에서는 raw data를 어떻게 가져왔는지에 대해서도 세세히 알 필요가 있을 때가 있음\n",
    "- PDF로 만들어진 공식 문서에서 추출한 데이터와\n",
    "- 공식 웹페이지를 크롤링해서 얻은 자료를 CSV 파일로 생성\n",
    "</div>"
   ]
  },
  {
   "cell_type": "markdown",
   "metadata": {},
   "source": [
    "## 탐색적 데이터 분석2: 데이터의 크기와 모양을 확인"
   ]
  },
  {
   "cell_type": "markdown",
   "metadata": {},
   "source": [
    "<div class=\"alert alert-block\" style=\"border: 1px solid #566573;background-color:#EAF2F8;\">\n",
    "<font size=\"3em\" style=\"font-weight:bold;color:#3f8dbf;\">탐색적 데이터 분석: 2. 데이터의 크기와 모양을 확인</font><br>\n",
    "\n",
    "- 1.pandas로 파일 읽기\n",
    "- 2.pd.head(): 실제 앞 데이터 살펴봄\n",
    "- 3.pd.tail(): 실제 끝 데이터 살펴봄\n",
    "- 4.pd.shape: 데이터 전체 모양 확인(행은 몇개고, 열은 몇개인지)\n",
    "- 5.pd.info():데이터 정보 확인(컬럼 구성과 타입, 행 갯수 등.)\n",
    "    - => 결측값 유무 확인\n",
    "</div>"
   ]
  },
  {
   "cell_type": "markdown",
   "metadata": {},
   "source": [
    "### pandas 라이브러리로 csv 파일 읽기\n",
    "- csv 파일을 pandas dataframe 으로 읽기 위해 read_csv() 함수를 사용함\n",
    "- csv 구분자는 sep=구분자 옵션을 넣어서 구분자가 다른 경우도 읽기 가능\n",
    "\n",
    "```python\n",
    "doc = pd.read_csv(\"파일명\", encoding='utf-8-sig', sep=',')\n",
    "```\n",
    "\n",
    "- 에러 나는 데이터는 항상 있을 수 있음, 해당 데이터는 생략하는 것이 일반적임\n",
    "\n",
    "```python\n",
    "doc = pd.read_csv(\"파일명\", encoding='utf-8-sig', error_bad_lines=False)\n",
    "```"
   ]
  },
  {
   "cell_type": "code",
   "execution_count": 1,
   "metadata": {},
   "outputs": [],
   "source": [
    "import pandas as pd\n",
    "doc = pd.read_csv(\"COVID-19-master/csse_covid_19_data/csse_covid_19_daily_reports/04-01-2020.csv\", encoding='utf-8-sig')"
   ]
  },
  {
   "cell_type": "markdown",
   "metadata": {},
   "source": [
    "#### 참고: pandas 라이브러리로 엑셀 파일 읽기\n",
    "\n",
    "- 엑셀 데이터 읽기 (맨 앞에 있는 쉬트의 데이터를 읽음)\n",
    "\n",
    "```\n",
    "pd.read_excel(\"파일명\")\n",
    "```\n",
    "\n",
    "- 특정 쉬트 데이터 읽기: sheet_name 옵션 사용해서, 엑셀 파일의 특정 쉬트를 명시적으로 지정 가능\n",
    "\n",
    "```\n",
    "pd.read_excel(파일명, sheet_name=쉬트명)\n",
    "```"
   ]
  },
  {
   "cell_type": "markdown",
   "metadata": {},
   "source": [
    "<div class=\"alert alert-block\" style=\"border: 1px solid #566573;background-color:#EAF2F8;\">\n",
    "<font size=\"3em\" style=\"font-weight:bold;color:#3f8dbf;\">탐색적 데이터 분석: 2. 데이터의 크기 확인</font><br>\n",
    "</div>"
   ]
  },
  {
   "cell_type": "markdown",
   "metadata": {
    "heading_collapsed": true
   },
   "source": [
    "### 데이터를 pandas로 읽은 후, 가장 먼저 하는 일\n",
    "\n",
    "- 데이터 일부 확인하기\n",
    "  - head(): 처음 5개(디폴트)의 데이터 확인하기\n",
    "    - head(n=10): 처음 10개(조정 가능)의 데이터 확인하기 \n",
    "  - tail(): 마지막 5개의 데이터 확인하기\n",
    "    - tail(n=10): 마지막 10개(조정 가능)의 데이터 확인하기 "
   ]
  },
  {
   "cell_type": "code",
   "execution_count": null,
   "metadata": {
    "hidden": true,
    "scrolled": true
   },
   "outputs": [],
   "source": [
    "doc.head()"
   ]
  },
  {
   "cell_type": "code",
   "execution_count": null,
   "metadata": {
    "hidden": true
   },
   "outputs": [],
   "source": [
    "doc.tail()"
   ]
  },
  {
   "cell_type": "markdown",
   "metadata": {},
   "source": [
    "### 보다 다양한 데이터 정보 확인하기\n",
    "- shape: 데이터의 row, column 사이즈 확인\n",
    "- info(): column별 데이터 타입과 실제 데이터가 있는 사이즈 확인\n",
    "  - raw data는 일부 데이터가 없는 경우가 많기 때문에, 실제 데이터의 사이즈 확인이 필요함"
   ]
  },
  {
   "cell_type": "code",
   "execution_count": 3,
   "metadata": {},
   "outputs": [
    {
     "data": {
      "text/plain": [
       "(2483, 12)"
      ]
     },
     "execution_count": 3,
     "metadata": {},
     "output_type": "execute_result"
    }
   ],
   "source": [
    "# 사이즈는?\n",
    "doc.shape"
   ]
  },
  {
   "cell_type": "code",
   "execution_count": 4,
   "metadata": {},
   "outputs": [
    {
     "data": {
      "text/plain": [
       "FIPS              312\n",
       "Admin2            262\n",
       "Province_State    176\n",
       "Country_Region      0\n",
       "Last_Update         0\n",
       "Lat                 1\n",
       "Long_               1\n",
       "Confirmed           0\n",
       "Deaths              0\n",
       "Recovered           0\n",
       "Active              0\n",
       "Combined_Key        0\n",
       "dtype: int64"
      ]
     },
     "execution_count": 4,
     "metadata": {},
     "output_type": "execute_result"
    }
   ],
   "source": [
    "# 누락된 데이터 갯수\n",
    "# 데이터 Dtype\n",
    "# 컬럼의 갯수 이름 정보 파악\n",
    "doc.isna().sum()"
   ]
  },
  {
   "cell_type": "markdown",
   "metadata": {},
   "source": [
    "## 탐색적 데이터 분석3: 데이터 구성 요소(feature) 특징 확인"
   ]
  },
  {
   "cell_type": "markdown",
   "metadata": {},
   "source": [
    "<div class=\"alert alert-block\" style=\"border: 1px solid #566573;background-color:#EAF2F8;\">\n",
    "<font size=\"3em\" style=\"font-weight:bold;color:#3f8dbf;\">탐색적 데이터 분석: 3. 데이터 구성 요소(feature)의 특징 확인</font><br>\n",
    "\n",
    "- 1.각 column 이해하기(각 column은 무엇을 의미하는가?)\n",
    "- 2.column값이 숫자이면 평균, 표준편차, 최소/최대값 확인\n",
    "- 3.column간의 상관관계를 확인\n",
    "\n",
    "</div>"
   ]
  },
  {
   "cell_type": "markdown",
   "metadata": {},
   "source": [
    "### 각 column 이해하기\n",
    "- raw data에는 다양한 column 이 있는 경우가 많고, 이 중에서 내가 사용할 column 에 대해서는 확실히 이해하고 있어야 함\n",
    "- FIPS:\n",
    "- Admin2:\n",
    "- Province_State: \n",
    "- Country_Region: \n",
    "- Last_Update: \n",
    "- Lat/Long: \n",
    "- Confirmed: \n",
    "- Deaths: \n",
    "- Recovered: \n",
    "- Active: \n",
    "- Combined_Key: "
   ]
  },
  {
   "cell_type": "code",
   "execution_count": null,
   "metadata": {
    "scrolled": true
   },
   "outputs": [],
   "source": []
  },
  {
   "cell_type": "markdown",
   "metadata": {},
   "source": [
    "### 속성이 숫자라면, 평균, 표준편차, 4분위 수, 최소/최대값 확인하기\n",
    "- describe(): 숫자 데이터의 기본 통계치를 한번에 확인할 수 있음"
   ]
  },
  {
   "cell_type": "code",
   "execution_count": null,
   "metadata": {
    "scrolled": true
   },
   "outputs": [],
   "source": [
    "# count: 갯수, mean: 평균, std: 표준편차, min: 최소값, max: 최대값\n",
    "# 25%/50%/75%: 4분위수로 전체 데이터 중, 25%/50%/75% 각각에 해당하는 수치가 몇 인지를 알려줌"
   ]
  },
  {
   "cell_type": "markdown",
   "metadata": {},
   "source": [
    "### 속성간 상관관계 이해하기\n",
    "- corr(method=상관계수): 각 속성간 상관 관계 확인하기 (피어슨 상관계수가 디폴트임) \n",
    "- 해석요령\n",
    "    * 0 ~ 0.3 : 약\n",
    "    * 0.3 ~ 0.6(0.7): 중\n",
    "    * 0.6(0.7) ~ 1: 강\n",
    "  \n",
    "> 참고: 피어슨 상관계수 관계   <img src=\"https://upload.wikimedia.org/wikipedia/commons/thumb/3/34/Correlation_coefficient.png/600px-Correlation_coefficient.png\">\n",
    "> 출처: [위키피디아]( https://ko.wikipedia.org/wiki/%ED%94%BC%EC%96%B4%EC%8A%A8_%EC%83%81%EA%B4%80_%EA%B3%84%EC%88%98)"
   ]
  },
  {
   "cell_type": "code",
   "execution_count": 5,
   "metadata": {
    "scrolled": true
   },
   "outputs": [
    {
     "data": {
      "text/html": [
       "<div>\n",
       "<style scoped>\n",
       "    .dataframe tbody tr th:only-of-type {\n",
       "        vertical-align: middle;\n",
       "    }\n",
       "\n",
       "    .dataframe tbody tr th {\n",
       "        vertical-align: top;\n",
       "    }\n",
       "\n",
       "    .dataframe thead th {\n",
       "        text-align: right;\n",
       "    }\n",
       "</style>\n",
       "<table border=\"1\" class=\"dataframe\">\n",
       "  <thead>\n",
       "    <tr style=\"text-align: right;\">\n",
       "      <th></th>\n",
       "      <th>FIPS</th>\n",
       "      <th>Lat</th>\n",
       "      <th>Long_</th>\n",
       "      <th>Confirmed</th>\n",
       "      <th>Deaths</th>\n",
       "      <th>Recovered</th>\n",
       "      <th>Active</th>\n",
       "    </tr>\n",
       "  </thead>\n",
       "  <tbody>\n",
       "    <tr>\n",
       "      <th>FIPS</th>\n",
       "      <td>1.000000</td>\n",
       "      <td>0.144217</td>\n",
       "      <td>0.139813</td>\n",
       "      <td>0.003306</td>\n",
       "      <td>-0.000190</td>\n",
       "      <td>NaN</td>\n",
       "      <td>NaN</td>\n",
       "    </tr>\n",
       "    <tr>\n",
       "      <th>Lat</th>\n",
       "      <td>0.144217</td>\n",
       "      <td>1.000000</td>\n",
       "      <td>-0.487517</td>\n",
       "      <td>0.028217</td>\n",
       "      <td>0.021578</td>\n",
       "      <td>-0.004630</td>\n",
       "      <td>0.029301</td>\n",
       "    </tr>\n",
       "    <tr>\n",
       "      <th>Long_</th>\n",
       "      <td>0.139813</td>\n",
       "      <td>-0.487517</td>\n",
       "      <td>1.000000</td>\n",
       "      <td>0.157110</td>\n",
       "      <td>0.104027</td>\n",
       "      <td>0.155989</td>\n",
       "      <td>0.143738</td>\n",
       "    </tr>\n",
       "    <tr>\n",
       "      <th>Confirmed</th>\n",
       "      <td>0.003306</td>\n",
       "      <td>0.028217</td>\n",
       "      <td>0.157110</td>\n",
       "      <td>1.000000</td>\n",
       "      <td>0.886551</td>\n",
       "      <td>0.727257</td>\n",
       "      <td>0.913162</td>\n",
       "    </tr>\n",
       "    <tr>\n",
       "      <th>Deaths</th>\n",
       "      <td>-0.000190</td>\n",
       "      <td>0.021578</td>\n",
       "      <td>0.104027</td>\n",
       "      <td>0.886551</td>\n",
       "      <td>1.000000</td>\n",
       "      <td>0.567840</td>\n",
       "      <td>0.880624</td>\n",
       "    </tr>\n",
       "    <tr>\n",
       "      <th>Recovered</th>\n",
       "      <td>NaN</td>\n",
       "      <td>-0.004630</td>\n",
       "      <td>0.155989</td>\n",
       "      <td>0.727257</td>\n",
       "      <td>0.567840</td>\n",
       "      <td>1.000000</td>\n",
       "      <td>0.493139</td>\n",
       "    </tr>\n",
       "    <tr>\n",
       "      <th>Active</th>\n",
       "      <td>NaN</td>\n",
       "      <td>0.029301</td>\n",
       "      <td>0.143738</td>\n",
       "      <td>0.913162</td>\n",
       "      <td>0.880624</td>\n",
       "      <td>0.493139</td>\n",
       "      <td>1.000000</td>\n",
       "    </tr>\n",
       "  </tbody>\n",
       "</table>\n",
       "</div>"
      ],
      "text/plain": [
       "               FIPS       Lat     Long_  Confirmed    Deaths  Recovered  \\\n",
       "FIPS       1.000000  0.144217  0.139813   0.003306 -0.000190        NaN   \n",
       "Lat        0.144217  1.000000 -0.487517   0.028217  0.021578  -0.004630   \n",
       "Long_      0.139813 -0.487517  1.000000   0.157110  0.104027   0.155989   \n",
       "Confirmed  0.003306  0.028217  0.157110   1.000000  0.886551   0.727257   \n",
       "Deaths    -0.000190  0.021578  0.104027   0.886551  1.000000   0.567840   \n",
       "Recovered       NaN -0.004630  0.155989   0.727257  0.567840   1.000000   \n",
       "Active          NaN  0.029301  0.143738   0.913162  0.880624   0.493139   \n",
       "\n",
       "             Active  \n",
       "FIPS            NaN  \n",
       "Lat        0.029301  \n",
       "Long_      0.143738  \n",
       "Confirmed  0.913162  \n",
       "Deaths     0.880624  \n",
       "Recovered  0.493139  \n",
       "Active     1.000000  "
      ]
     },
     "execution_count": 5,
     "metadata": {},
     "output_type": "execute_result"
    }
   ],
   "source": [
    "doc.corr()"
   ]
  },
  {
   "cell_type": "markdown",
   "metadata": {},
   "source": [
    "## 시각화를 통한 데이터 분석 강화\n",
    "- 데이터를 보다 깊게 이해하기 위해, 데이터를 시각화가 도움\n",
    "- 초기 데이터 분석에 도움이 되는 시각화 라이브러리 필요"
   ]
  },
  {
   "cell_type": "markdown",
   "metadata": {},
   "source": [
    "### matplotlib / seaborn"
   ]
  },
  {
   "cell_type": "code",
   "execution_count": null,
   "metadata": {},
   "outputs": [],
   "source": [
    "import matplotlib.pyplot as plt \n",
    "import seaborn as sns"
   ]
  },
  {
   "cell_type": "markdown",
   "metadata": {},
   "source": [
    "### 화면에 표시될 그래프 사이즈 조정"
   ]
  },
  {
   "cell_type": "code",
   "execution_count": null,
   "metadata": {},
   "outputs": [],
   "source": [
    "plt.figure(figsize=(5,5))"
   ]
  },
  {
   "cell_type": "markdown",
   "metadata": {},
   "source": [
    "#### 화면에 표시될 그래프 사이즈 조정\n",
    "\n",
    "```python\n",
    "sns.heatmap(data = doc.corr(), annot=True, fmt = '.2f', linewidths=0.5, cmap='Blues')\n",
    "```\n",
    "\n",
    "- data=테이블형: 데이터셋(데이터프레임)\n",
    "- annot=True: 박스 안에 값 표시\n",
    "- fmt='0.2f': 박스 안에 표시될 값의 표시 형식 설정 (0.2f 는 소숫점 두자릿수를 의미함)\n",
    "- linewidths=0.5: 박스와 박스 사이의 간격 설정\n",
    "- cmap='Blues': 색상 선택 (https://matplotlib.org/3.1.0/tutorials/colors/colormaps.html)"
   ]
  },
  {
   "cell_type": "code",
   "execution_count": null,
   "metadata": {},
   "outputs": [],
   "source": [
    "import matplotlib.pyplot as plt \n",
    "import seaborn as sns\n",
    "import pandas as pd\n",
    "doc = pd.read_csv(\"COVID-19-master/csse_covid_19_data/csse_covid_19_daily_reports/04-01-2020.csv\", encoding='utf-8-sig')"
   ]
  },
  {
   "cell_type": "code",
   "execution_count": 7,
   "metadata": {},
   "outputs": [
    {
     "data": {
      "text/plain": [
       "<matplotlib.axes._subplots.AxesSubplot at 0x2948aaaa470>"
      ]
     },
     "execution_count": 7,
     "metadata": {},
     "output_type": "execute_result"
    },
    {
     "data": {
      "image/png": "[encoded data removed]",
      "text/plain": [
       "<Figure size 360x360 with 2 Axes>"
      ]
     },
     "metadata": {
      "needs_background": "light"
     },
     "output_type": "display_data"
    }
   ],
   "source": [
    "plt.figure(figsize=(5,5))\n",
    "sns.heatmap(data = doc.corr(), annot=True, fmt = '.2f', linewidths=0.5, cmap='Blues')"
   ]
  },
  {
   "cell_type": "markdown",
   "metadata": {},
   "source": [
    "### 이전 데이터 시각화 라이브러리 (참고로만 이해)\n",
    "- matplotlib: 파이썬에서 가장 기본적으로 사용하는 자료를 그래프로 보여주는 시각화 라이브러리\n",
    "  - 가장 좋기 때문에, 많이 사용된 것이 아니라, 이전부터 사용해왔기 때문에 사용된다고 하는 편이 맞음\n",
    "- seaborn: matplotlib을 기반으로 다양한 통계 차트 및 색상 테마를 추가한 라이브러리\n",
    "  - matplotlib 라이브러리로만은 이쁘지 않았고, 다양한 차트에 대한 요구가 많아서 개발된 라이브러리\n",
    "  \n",
    "### 최신 시각화 라이브러리: plotly\n",
    "  - pandas 기능과 plotly 를 조합해서 최신/가장 빠르게 시각화 가능\n",
    "  - pandas 데이터프레임.iplot() 같은 형태로 데이터프레임을 바로 그래프로 그릴 수 있음\n",
    "  - https://plotly.com/python/\n",
    "  \n",
    "  \n",
    "> 본 전처리에서는 이전 데이터 시각화 라이브러리를 간략히 시각화가 분석에 유용하다는 점만 알려드리고, <br>\n",
    "> 이전 시각화 라이브러리에 대해 가볍게만 이해할 수 있도록 꾸몄습니다. <br>\n",
    "> 데이터 분석에서 시각화를 본격적으로 이해할 시에는 최신 시각화 라이브러리를 사용합니다."
   ]
  },
  {
   "cell_type": "code",
   "execution_count": null,
   "metadata": {},
   "outputs": [],
   "source": []
  }
 ],
 "metadata": {
  "kernelspec": {
   "display_name": "Python 3",
   "language": "python",
   "name": "python3"
  },
  "language_info": {
   "codemirror_mode": {
    "name": "ipython",
    "version": 3
   },
   "file_extension": ".py",
   "mimetype": "text/x-python",
   "name": "python",
   "nbconvert_exporter": "python",
   "pygments_lexer": "ipython3",
   "version": "3.7.1"
  },
  "toc": {
   "base_numbering": 1,
   "nav_menu": {},
   "number_sections": true,
   "sideBar": true,
   "skip_h1_title": false,
   "title_cell": "Table of Contents",
   "title_sidebar": "Contents",
   "toc_cell": false,
   "toc_position": {
    "height": "calc(100% - 180px)",
    "left": "10px",
    "top": "150px",
    "width": "165px"
   },
   "toc_section_display": true,
   "toc_window_display": false
  },
  "varInspector": {
   "cols": {
    "lenName": 16,
    "lenType": 16,
    "lenVar": 40
   },
   "kernels_config": {
    "python": {
     "delete_cmd_postfix": "",
     "delete_cmd_prefix": "del ",
     "library": "var_list.py",
     "varRefreshCmd": "print(var_dic_list())"
    },
    "r": {
     "delete_cmd_postfix": ") ",
     "delete_cmd_prefix": "rm(",
     "library": "var_list.r",
     "varRefreshCmd": "cat(var_dic_list()) "
    }
   },
   "types_to_exclude": [
    "module",
    "function",
    "builtin_function_or_method",
    "instance",
    "_Feature"
   ],
   "window_display": false
  }
 },
 "nbformat": 4,
 "nbformat_minor": 4
}
